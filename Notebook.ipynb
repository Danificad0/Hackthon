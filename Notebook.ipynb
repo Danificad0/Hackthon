{
 "cells": [
  {
   "cell_type": "code",
   "execution_count": 1,
   "metadata": {},
   "outputs": [
    {
     "name": "stdout",
     "output_type": "stream",
     "text": [
      "Epoch 1/100\n",
      "\u001b[1m9438/9438\u001b[0m \u001b[32m━━━━━━━━━━━━━━━━━━━━\u001b[0m\u001b[37m\u001b[0m \u001b[1m4s\u001b[0m 424us/step - loss: 0.0813 - val_loss: 0.0259\n",
      "Epoch 2/100\n",
      "\u001b[1m9438/9438\u001b[0m \u001b[32m━━━━━━━━━━━━━━━━━━━━\u001b[0m\u001b[37m\u001b[0m \u001b[1m4s\u001b[0m 424us/step - loss: 0.0232 - val_loss: 0.0164\n",
      "Epoch 3/100\n",
      "\u001b[1m9438/9438\u001b[0m \u001b[32m━━━━━━━━━━━━━━━━━━━━\u001b[0m\u001b[37m\u001b[0m \u001b[1m4s\u001b[0m 421us/step - loss: 0.0174 - val_loss: 0.0133\n",
      "Epoch 4/100\n",
      "\u001b[1m9438/9438\u001b[0m \u001b[32m━━━━━━━━━━━━━━━━━━━━\u001b[0m\u001b[37m\u001b[0m \u001b[1m4s\u001b[0m 429us/step - loss: 0.0147 - val_loss: 0.0122\n",
      "Epoch 5/100\n",
      "\u001b[1m9438/9438\u001b[0m \u001b[32m━━━━━━━━━━━━━━━━━━━━\u001b[0m\u001b[37m\u001b[0m \u001b[1m4s\u001b[0m 417us/step - loss: 0.0140 - val_loss: 0.0112\n",
      "Epoch 6/100\n",
      "\u001b[1m9438/9438\u001b[0m \u001b[32m━━━━━━━━━━━━━━━━━━━━\u001b[0m\u001b[37m\u001b[0m \u001b[1m4s\u001b[0m 417us/step - loss: 0.0130 - val_loss: 0.0088\n",
      "Epoch 7/100\n",
      "\u001b[1m9438/9438\u001b[0m \u001b[32m━━━━━━━━━━━━━━━━━━━━\u001b[0m\u001b[37m\u001b[0m \u001b[1m4s\u001b[0m 416us/step - loss: 0.0107 - val_loss: 0.0059\n",
      "Epoch 8/100\n",
      "\u001b[1m9438/9438\u001b[0m \u001b[32m━━━━━━━━━━━━━━━━━━━━\u001b[0m\u001b[37m\u001b[0m \u001b[1m4s\u001b[0m 428us/step - loss: 0.0089 - val_loss: 0.0050\n",
      "Epoch 9/100\n",
      "\u001b[1m9438/9438\u001b[0m \u001b[32m━━━━━━━━━━━━━━━━━━━━\u001b[0m\u001b[37m\u001b[0m \u001b[1m4s\u001b[0m 418us/step - loss: 0.0084 - val_loss: 0.0046\n",
      "Epoch 10/100\n",
      "\u001b[1m9438/9438\u001b[0m \u001b[32m━━━━━━━━━━━━━━━━━━━━\u001b[0m\u001b[37m\u001b[0m \u001b[1m4s\u001b[0m 439us/step - loss: 0.0079 - val_loss: 0.0044\n",
      "Epoch 11/100\n",
      "\u001b[1m9438/9438\u001b[0m \u001b[32m━━━━━━━━━━━━━━━━━━━━\u001b[0m\u001b[37m\u001b[0m \u001b[1m4s\u001b[0m 432us/step - loss: 0.0080 - val_loss: 0.0041\n",
      "Epoch 12/100\n",
      "\u001b[1m9438/9438\u001b[0m \u001b[32m━━━━━━━━━━━━━━━━━━━━\u001b[0m\u001b[37m\u001b[0m \u001b[1m4s\u001b[0m 422us/step - loss: 0.0076 - val_loss: 0.0039\n",
      "Epoch 13/100\n",
      "\u001b[1m9438/9438\u001b[0m \u001b[32m━━━━━━━━━━━━━━━━━━━━\u001b[0m\u001b[37m\u001b[0m \u001b[1m4s\u001b[0m 419us/step - loss: 0.0075 - val_loss: 0.0037\n",
      "Epoch 14/100\n",
      "\u001b[1m9438/9438\u001b[0m \u001b[32m━━━━━━━━━━━━━━━━━━━━\u001b[0m\u001b[37m\u001b[0m \u001b[1m4s\u001b[0m 425us/step - loss: 0.0073 - val_loss: 0.0036\n",
      "Epoch 15/100\n",
      "\u001b[1m9438/9438\u001b[0m \u001b[32m━━━━━━━━━━━━━━━━━━━━\u001b[0m\u001b[37m\u001b[0m \u001b[1m4s\u001b[0m 420us/step - loss: 0.0072 - val_loss: 0.0036\n",
      "Epoch 16/100\n",
      "\u001b[1m9438/9438\u001b[0m \u001b[32m━━━━━━━━━━━━━━━━━━━━\u001b[0m\u001b[37m\u001b[0m \u001b[1m4s\u001b[0m 426us/step - loss: 0.0072 - val_loss: 0.0035\n",
      "Epoch 17/100\n",
      "\u001b[1m9438/9438\u001b[0m \u001b[32m━━━━━━━━━━━━━━━━━━━━\u001b[0m\u001b[37m\u001b[0m \u001b[1m4s\u001b[0m 432us/step - loss: 0.0071 - val_loss: 0.0034\n",
      "Epoch 18/100\n",
      "\u001b[1m9438/9438\u001b[0m \u001b[32m━━━━━━━━━━━━━━━━━━━━\u001b[0m\u001b[37m\u001b[0m \u001b[1m4s\u001b[0m 432us/step - loss: 0.0069 - val_loss: 0.0033\n",
      "Epoch 19/100\n",
      "\u001b[1m9438/9438\u001b[0m \u001b[32m━━━━━━━━━━━━━━━━━━━━\u001b[0m\u001b[37m\u001b[0m \u001b[1m4s\u001b[0m 427us/step - loss: 0.0070 - val_loss: 0.0032\n",
      "Epoch 20/100\n",
      "\u001b[1m9438/9438\u001b[0m \u001b[32m━━━━━━━━━━━━━━━━━━━━\u001b[0m\u001b[37m\u001b[0m \u001b[1m4s\u001b[0m 420us/step - loss: 0.0071 - val_loss: 0.0032\n",
      "Epoch 21/100\n",
      "\u001b[1m9438/9438\u001b[0m \u001b[32m━━━━━━━━━━━━━━━━━━━━\u001b[0m\u001b[37m\u001b[0m \u001b[1m4s\u001b[0m 432us/step - loss: 0.0069 - val_loss: 0.0031\n",
      "Epoch 22/100\n",
      "\u001b[1m9438/9438\u001b[0m \u001b[32m━━━━━━━━━━━━━━━━━━━━\u001b[0m\u001b[37m\u001b[0m \u001b[1m4s\u001b[0m 435us/step - loss: 0.0067 - val_loss: 0.0031\n",
      "Epoch 23/100\n",
      "\u001b[1m9438/9438\u001b[0m \u001b[32m━━━━━━━━━━━━━━━━━━━━\u001b[0m\u001b[37m\u001b[0m \u001b[1m4s\u001b[0m 440us/step - loss: 0.0068 - val_loss: 0.0030\n",
      "Epoch 24/100\n",
      "\u001b[1m9438/9438\u001b[0m \u001b[32m━━━━━━━━━━━━━━━━━━━━\u001b[0m\u001b[37m\u001b[0m \u001b[1m4s\u001b[0m 435us/step - loss: 0.0067 - val_loss: 0.0029\n",
      "Epoch 25/100\n",
      "\u001b[1m9438/9438\u001b[0m \u001b[32m━━━━━━━━━━━━━━━━━━━━\u001b[0m\u001b[37m\u001b[0m \u001b[1m4s\u001b[0m 424us/step - loss: 0.0068 - val_loss: 0.0029\n",
      "Epoch 26/100\n",
      "\u001b[1m9438/9438\u001b[0m \u001b[32m━━━━━━━━━━━━━━━━━━━━\u001b[0m\u001b[37m\u001b[0m \u001b[1m4s\u001b[0m 422us/step - loss: 0.0069 - val_loss: 0.0028\n",
      "Epoch 27/100\n",
      "\u001b[1m9438/9438\u001b[0m \u001b[32m━━━━━━━━━━━━━━━━━━━━\u001b[0m\u001b[37m\u001b[0m \u001b[1m4s\u001b[0m 425us/step - loss: 0.0067 - val_loss: 0.0029\n",
      "Epoch 28/100\n",
      "\u001b[1m9438/9438\u001b[0m \u001b[32m━━━━━━━━━━━━━━━━━━━━\u001b[0m\u001b[37m\u001b[0m \u001b[1m4s\u001b[0m 427us/step - loss: 0.0067 - val_loss: 0.0029\n",
      "Epoch 29/100\n",
      "\u001b[1m9438/9438\u001b[0m \u001b[32m━━━━━━━━━━━━━━━━━━━━\u001b[0m\u001b[37m\u001b[0m \u001b[1m4s\u001b[0m 435us/step - loss: 0.0066 - val_loss: 0.0028\n",
      "Epoch 30/100\n",
      "\u001b[1m9438/9438\u001b[0m \u001b[32m━━━━━━━━━━━━━━━━━━━━\u001b[0m\u001b[37m\u001b[0m \u001b[1m4s\u001b[0m 420us/step - loss: 0.0065 - val_loss: 0.0029\n",
      "Epoch 31/100\n",
      "\u001b[1m9438/9438\u001b[0m \u001b[32m━━━━━━━━━━━━━━━━━━━━\u001b[0m\u001b[37m\u001b[0m \u001b[1m4s\u001b[0m 418us/step - loss: 0.0067 - val_loss: 0.0028\n",
      "Epoch 32/100\n",
      "\u001b[1m9438/9438\u001b[0m \u001b[32m━━━━━━━━━━━━━━━━━━━━\u001b[0m\u001b[37m\u001b[0m \u001b[1m4s\u001b[0m 419us/step - loss: 0.0067 - val_loss: 0.0028\n",
      "Epoch 33/100\n",
      "\u001b[1m9438/9438\u001b[0m \u001b[32m━━━━━━━━━━━━━━━━━━━━\u001b[0m\u001b[37m\u001b[0m \u001b[1m4s\u001b[0m 424us/step - loss: 0.0065 - val_loss: 0.0028\n",
      "Epoch 34/100\n",
      "\u001b[1m9438/9438\u001b[0m \u001b[32m━━━━━━━━━━━━━━━━━━━━\u001b[0m\u001b[37m\u001b[0m \u001b[1m4s\u001b[0m 432us/step - loss: 0.0067 - val_loss: 0.0028\n",
      "Epoch 35/100\n",
      "\u001b[1m9438/9438\u001b[0m \u001b[32m━━━━━━━━━━━━━━━━━━━━\u001b[0m\u001b[37m\u001b[0m \u001b[1m4s\u001b[0m 439us/step - loss: 0.0066 - val_loss: 0.0028\n",
      "Epoch 36/100\n",
      "\u001b[1m9438/9438\u001b[0m \u001b[32m━━━━━━━━━━━━━━━━━━━━\u001b[0m\u001b[37m\u001b[0m \u001b[1m4s\u001b[0m 433us/step - loss: 0.0068 - val_loss: 0.0028\n",
      "Epoch 37/100\n",
      "\u001b[1m9438/9438\u001b[0m \u001b[32m━━━━━━━━━━━━━━━━━━━━\u001b[0m\u001b[37m\u001b[0m \u001b[1m4s\u001b[0m 437us/step - loss: 0.0066 - val_loss: 0.0027\n",
      "Epoch 38/100\n",
      "\u001b[1m9438/9438\u001b[0m \u001b[32m━━━━━━━━━━━━━━━━━━━━\u001b[0m\u001b[37m\u001b[0m \u001b[1m4s\u001b[0m 422us/step - loss: 0.0066 - val_loss: 0.0027\n",
      "Epoch 39/100\n",
      "\u001b[1m9438/9438\u001b[0m \u001b[32m━━━━━━━━━━━━━━━━━━━━\u001b[0m\u001b[37m\u001b[0m \u001b[1m4s\u001b[0m 431us/step - loss: 0.0066 - val_loss: 0.0027\n",
      "Epoch 40/100\n",
      "\u001b[1m9438/9438\u001b[0m \u001b[32m━━━━━━━━━━━━━━━━━━━━\u001b[0m\u001b[37m\u001b[0m \u001b[1m4s\u001b[0m 422us/step - loss: 0.0066 - val_loss: 0.0028\n",
      "Epoch 41/100\n",
      "\u001b[1m9438/9438\u001b[0m \u001b[32m━━━━━━━━━━━━━━━━━━━━\u001b[0m\u001b[37m\u001b[0m \u001b[1m4s\u001b[0m 419us/step - loss: 0.0067 - val_loss: 0.0028\n",
      "Epoch 42/100\n",
      "\u001b[1m9438/9438\u001b[0m \u001b[32m━━━━━━━━━━━━━━━━━━━━\u001b[0m\u001b[37m\u001b[0m \u001b[1m4s\u001b[0m 426us/step - loss: 0.0068 - val_loss: 0.0027\n",
      "Epoch 43/100\n",
      "\u001b[1m9438/9438\u001b[0m \u001b[32m━━━━━━━━━━━━━━━━━━━━\u001b[0m\u001b[37m\u001b[0m \u001b[1m4s\u001b[0m 433us/step - loss: 0.0065 - val_loss: 0.0027\n",
      "Epoch 44/100\n",
      "\u001b[1m9438/9438\u001b[0m \u001b[32m━━━━━━━━━━━━━━━━━━━━\u001b[0m\u001b[37m\u001b[0m \u001b[1m4s\u001b[0m 430us/step - loss: 0.0067 - val_loss: 0.0027\n",
      "Epoch 45/100\n",
      "\u001b[1m9438/9438\u001b[0m \u001b[32m━━━━━━━━━━━━━━━━━━━━\u001b[0m\u001b[37m\u001b[0m \u001b[1m4s\u001b[0m 428us/step - loss: 0.0066 - val_loss: 0.0026\n",
      "Epoch 46/100\n",
      "\u001b[1m9438/9438\u001b[0m \u001b[32m━━━━━━━━━━━━━━━━━━━━\u001b[0m\u001b[37m\u001b[0m \u001b[1m4s\u001b[0m 435us/step - loss: 0.0065 - val_loss: 0.0027\n",
      "Epoch 47/100\n",
      "\u001b[1m9438/9438\u001b[0m \u001b[32m━━━━━━━━━━━━━━━━━━━━\u001b[0m\u001b[37m\u001b[0m \u001b[1m4s\u001b[0m 440us/step - loss: 0.0065 - val_loss: 0.0026\n",
      "Epoch 48/100\n",
      "\u001b[1m9438/9438\u001b[0m \u001b[32m━━━━━━━━━━━━━━━━━━━━\u001b[0m\u001b[37m\u001b[0m \u001b[1m4s\u001b[0m 432us/step - loss: 0.0065 - val_loss: 0.0026\n",
      "Epoch 49/100\n",
      "\u001b[1m9438/9438\u001b[0m \u001b[32m━━━━━━━━━━━━━━━━━━━━\u001b[0m\u001b[37m\u001b[0m \u001b[1m4s\u001b[0m 428us/step - loss: 0.0066 - val_loss: 0.0027\n",
      "Epoch 50/100\n",
      "\u001b[1m9438/9438\u001b[0m \u001b[32m━━━━━━━━━━━━━━━━━━━━\u001b[0m\u001b[37m\u001b[0m \u001b[1m4s\u001b[0m 418us/step - loss: 0.0065 - val_loss: 0.0027\n",
      "Epoch 51/100\n",
      "\u001b[1m9438/9438\u001b[0m \u001b[32m━━━━━━━━━━━━━━━━━━━━\u001b[0m\u001b[37m\u001b[0m \u001b[1m4s\u001b[0m 422us/step - loss: 0.0066 - val_loss: 0.0027\n",
      "Epoch 52/100\n",
      "\u001b[1m9438/9438\u001b[0m \u001b[32m━━━━━━━━━━━━━━━━━━━━\u001b[0m\u001b[37m\u001b[0m \u001b[1m4s\u001b[0m 437us/step - loss: 0.0066 - val_loss: 0.0027\n",
      "Epoch 53/100\n",
      "\u001b[1m9438/9438\u001b[0m \u001b[32m━━━━━━━━━━━━━━━━━━━━\u001b[0m\u001b[37m\u001b[0m \u001b[1m4s\u001b[0m 434us/step - loss: 0.0066 - val_loss: 0.0027\n",
      "\u001b[1m590/590\u001b[0m \u001b[32m━━━━━━━━━━━━━━━━━━━━\u001b[0m\u001b[37m\u001b[0m \u001b[1m0s\u001b[0m 363us/step\n",
      "Erro médio de reconstrução: 0.0025295084754327\n"
     ]
    }
   ],
   "source": [
    "import pandas as pd\n",
    "import numpy as np\n",
    "from sklearn.model_selection import train_test_split\n",
    "from sklearn.preprocessing import MinMaxScaler\n",
    "from tensorflow.keras.models import Model\n",
    "from tensorflow.keras.layers import Input, Dense, Dropout\n",
    "from tensorflow.keras.optimizers import Adam\n",
    "from tensorflow.keras.callbacks import EarlyStopping\n",
    "\n",
    "# Carregar o dataset\n",
    "file_path = \"datasetCAN.csv\"\n",
    "data = pd.read_csv(file_path, delimiter=',')\n",
    "\n",
    "# Selecionar as colunas relevantes\n",
    "columns_to_use = [\n",
    "    \"Engine_speed\",\n",
    "    \"Engine_torque\",\n",
    "    \"Flywheel_torque\",\n",
    "    \"Throttle_position_signal\",\n",
    "    \"Vehicle_speed\"\n",
    "]\n",
    "selected_data = data[columns_to_use]\n",
    "\n",
    "# Tratar valores ausentes\n",
    "selected_data = selected_data.dropna()\n",
    "\n",
    "# Normalizar os dados (Min-Max Scaling)\n",
    "scaler = MinMaxScaler()\n",
    "normalized_data = scaler.fit_transform(selected_data)\n",
    "\n",
    "# Dividir em conjuntos de treinamento e teste\n",
    "train_data, test_data = train_test_split(normalized_data, test_size=0.2, random_state=42)\n",
    "\n",
    "# Configuração do Autoencoder\n",
    "input_dim = train_data.shape[1]\n",
    "encoding_dim = 2  # Dimensão do \"bottleneck\"\n",
    "\n",
    "# Arquitetura do Autoencoder\n",
    "input_layer = Input(shape=(input_dim,))\n",
    "# Codificação\n",
    "encoded = Dense(encoding_dim * 2, activation=\"relu\")(input_layer)\n",
    "encoded = Dropout(0.2)(encoded)  # Dropout para evitar overfitting\n",
    "encoded = Dense(encoding_dim, activation=\"relu\", kernel_regularizer='l2')(encoded)\n",
    "# Decodificação\n",
    "decoded = Dense(encoding_dim * 2, activation=\"relu\")(encoded)\n",
    "decoded = Dense(input_dim, activation=\"sigmoid\")(decoded)\n",
    "\n",
    "# Compilar o modelo\n",
    "autoencoder = Model(inputs=input_layer, outputs=decoded)\n",
    "autoencoder.compile(optimizer=Adam(learning_rate=0.0001), loss=\"mse\")\n",
    "\n",
    "# Configurar Early Stopping\n",
    "early_stopping = EarlyStopping(\n",
    "    monitor='val_loss',         # Monitorar a validação\n",
    "    patience=5,                 # Parar após 5 épocas sem melhora\n",
    "    restore_best_weights=True   # Restaurar os melhores pesos\n",
    ")\n",
    "\n",
    "# Treinamento do Autoencoder\n",
    "history = autoencoder.fit(\n",
    "    train_data, train_data,\n",
    "    epochs=100,                  # Máximo de épocas\n",
    "    batch_size=8,              # Tamanho da quantidade de dados\n",
    "    shuffle=True,\n",
    "    validation_data=(test_data, test_data),\n",
    "    callbacks=[early_stopping]   # Adicionar Early Stopping\n",
    ")\n",
    "\n",
    "# Avaliação e Reconstrução\n",
    "reconstructed = autoencoder.predict(test_data)\n",
    "reconstruction_error = np.mean(np.power(test_data - reconstructed, 2), axis=1)\n",
    "\n",
    "# Exibir erro médio de reconstrução\n",
    "print(\"Erro médio de reconstrução:\", np.mean(reconstruction_error))"
   ]
  },
  {
   "cell_type": "code",
   "execution_count": 2,
   "metadata": {},
   "outputs": [
    {
     "data": {
      "image/png": "[encoded data removed]",
      "text/plain": [
       "<Figure size 640x480 with 1 Axes>"
      ]
     },
     "metadata": {},
     "output_type": "display_data"
    }
   ],
   "source": [
    "# Plotar a curva de perda (opcional)\n",
    "import matplotlib.pyplot as plt\n",
    "plt.plot(history.history['loss'], label='Loss')\n",
    "plt.plot(history.history['val_loss'], label='Val Loss')\n",
    "plt.title('Curva de Perda do Autoencoder')\n",
    "plt.xlabel('Épocas')\n",
    "plt.ylabel('Loss')\n",
    "plt.legend()\n",
    "plt.show()"
   ]
  },
  {
   "cell_type": "code",
   "execution_count": 3,
   "metadata": {},
   "outputs": [],
   "source": [
    "# Salvar o modelo completo no formato Keras\n",
    "autoencoder.save('autoencoder_model.keras')\n"
   ]
  },
  {
   "cell_type": "code",
   "execution_count": 4,
   "metadata": {},
   "outputs": [
    {
     "data": {
      "text/html": [
       "<pre style=\"white-space:pre;overflow-x:auto;line-height:normal;font-family:Menlo,'DejaVu Sans Mono',consolas,'Courier New',monospace\"><span style=\"font-weight: bold\">Model: \"functional\"</span>\n",
       "</pre>\n"
      ],
      "text/plain": [
       "\u001b[1mModel: \"functional\"\u001b[0m\n"
      ]
     },
     "metadata": {},
     "output_type": "display_data"
    },
    {
     "data": {
      "text/html": [
       "<pre style=\"white-space:pre;overflow-x:auto;line-height:normal;font-family:Menlo,'DejaVu Sans Mono',consolas,'Courier New',monospace\">┏━━━━━━━━━━━━━━━━━━━━━━━━━━━━━━━━━┳━━━━━━━━━━━━━━━━━━━━━━━━┳━━━━━━━━━━━━━━━┓\n",
       "┃<span style=\"font-weight: bold\"> Layer (type)                    </span>┃<span style=\"font-weight: bold\"> Output Shape           </span>┃<span style=\"font-weight: bold\">       Param # </span>┃\n",
       "┡━━━━━━━━━━━━━━━━━━━━━━━━━━━━━━━━━╇━━━━━━━━━━━━━━━━━━━━━━━━╇━━━━━━━━━━━━━━━┩\n",
       "│ input_layer (<span style=\"color: #0087ff; text-decoration-color: #0087ff\">InputLayer</span>)        │ (<span style=\"color: #00d7ff; text-decoration-color: #00d7ff\">None</span>, <span style=\"color: #00af00; text-decoration-color: #00af00\">5</span>)              │             <span style=\"color: #00af00; text-decoration-color: #00af00\">0</span> │\n",
       "├─────────────────────────────────┼────────────────────────┼───────────────┤\n",
       "│ dense (<span style=\"color: #0087ff; text-decoration-color: #0087ff\">Dense</span>)                   │ (<span style=\"color: #00d7ff; text-decoration-color: #00d7ff\">None</span>, <span style=\"color: #00af00; text-decoration-color: #00af00\">4</span>)              │            <span style=\"color: #00af00; text-decoration-color: #00af00\">24</span> │\n",
       "├─────────────────────────────────┼────────────────────────┼───────────────┤\n",
       "│ dropout (<span style=\"color: #0087ff; text-decoration-color: #0087ff\">Dropout</span>)               │ (<span style=\"color: #00d7ff; text-decoration-color: #00d7ff\">None</span>, <span style=\"color: #00af00; text-decoration-color: #00af00\">4</span>)              │             <span style=\"color: #00af00; text-decoration-color: #00af00\">0</span> │\n",
       "├─────────────────────────────────┼────────────────────────┼───────────────┤\n",
       "│ dense_1 (<span style=\"color: #0087ff; text-decoration-color: #0087ff\">Dense</span>)                 │ (<span style=\"color: #00d7ff; text-decoration-color: #00d7ff\">None</span>, <span style=\"color: #00af00; text-decoration-color: #00af00\">2</span>)              │            <span style=\"color: #00af00; text-decoration-color: #00af00\">10</span> │\n",
       "├─────────────────────────────────┼────────────────────────┼───────────────┤\n",
       "│ dense_2 (<span style=\"color: #0087ff; text-decoration-color: #0087ff\">Dense</span>)                 │ (<span style=\"color: #00d7ff; text-decoration-color: #00d7ff\">None</span>, <span style=\"color: #00af00; text-decoration-color: #00af00\">4</span>)              │            <span style=\"color: #00af00; text-decoration-color: #00af00\">12</span> │\n",
       "├─────────────────────────────────┼────────────────────────┼───────────────┤\n",
       "│ dense_3 (<span style=\"color: #0087ff; text-decoration-color: #0087ff\">Dense</span>)                 │ (<span style=\"color: #00d7ff; text-decoration-color: #00d7ff\">None</span>, <span style=\"color: #00af00; text-decoration-color: #00af00\">5</span>)              │            <span style=\"color: #00af00; text-decoration-color: #00af00\">25</span> │\n",
       "└─────────────────────────────────┴────────────────────────┴───────────────┘\n",
       "</pre>\n"
      ],
      "text/plain": [
       "┏━━━━━━━━━━━━━━━━━━━━━━━━━━━━━━━━━┳━━━━━━━━━━━━━━━━━━━━━━━━┳━━━━━━━━━━━━━━━┓\n",
       "┃\u001b[1m \u001b[0m\u001b[1mLayer (type)                   \u001b[0m\u001b[1m \u001b[0m┃\u001b[1m \u001b[0m\u001b[1mOutput Shape          \u001b[0m\u001b[1m \u001b[0m┃\u001b[1m \u001b[0m\u001b[1m      Param #\u001b[0m\u001b[1m \u001b[0m┃\n",
       "┡━━━━━━━━━━━━━━━━━━━━━━━━━━━━━━━━━╇━━━━━━━━━━━━━━━━━━━━━━━━╇━━━━━━━━━━━━━━━┩\n",
       "│ input_layer (\u001b[38;5;33mInputLayer\u001b[0m)        │ (\u001b[38;5;45mNone\u001b[0m, \u001b[38;5;34m5\u001b[0m)              │             \u001b[38;5;34m0\u001b[0m │\n",
       "├─────────────────────────────────┼────────────────────────┼───────────────┤\n",
       "│ dense (\u001b[38;5;33mDense\u001b[0m)                   │ (\u001b[38;5;45mNone\u001b[0m, \u001b[38;5;34m4\u001b[0m)              │            \u001b[38;5;34m24\u001b[0m │\n",
       "├─────────────────────────────────┼────────────────────────┼───────────────┤\n",
       "│ dropout (\u001b[38;5;33mDropout\u001b[0m)               │ (\u001b[38;5;45mNone\u001b[0m, \u001b[38;5;34m4\u001b[0m)              │             \u001b[38;5;34m0\u001b[0m │\n",
       "├─────────────────────────────────┼────────────────────────┼───────────────┤\n",
       "│ dense_1 (\u001b[38;5;33mDense\u001b[0m)                 │ (\u001b[38;5;45mNone\u001b[0m, \u001b[38;5;34m2\u001b[0m)              │            \u001b[38;5;34m10\u001b[0m │\n",
       "├─────────────────────────────────┼────────────────────────┼───────────────┤\n",
       "│ dense_2 (\u001b[38;5;33mDense\u001b[0m)                 │ (\u001b[38;5;45mNone\u001b[0m, \u001b[38;5;34m4\u001b[0m)              │            \u001b[38;5;34m12\u001b[0m │\n",
       "├─────────────────────────────────┼────────────────────────┼───────────────┤\n",
       "│ dense_3 (\u001b[38;5;33mDense\u001b[0m)                 │ (\u001b[38;5;45mNone\u001b[0m, \u001b[38;5;34m5\u001b[0m)              │            \u001b[38;5;34m25\u001b[0m │\n",
       "└─────────────────────────────────┴────────────────────────┴───────────────┘\n"
      ]
     },
     "metadata": {},
     "output_type": "display_data"
    },
    {
     "data": {
      "text/html": [
       "<pre style=\"white-space:pre;overflow-x:auto;line-height:normal;font-family:Menlo,'DejaVu Sans Mono',consolas,'Courier New',monospace\"><span style=\"font-weight: bold\"> Total params: </span><span style=\"color: #00af00; text-decoration-color: #00af00\">215</span> (864.00 B)\n",
       "</pre>\n"
      ],
      "text/plain": [
       "\u001b[1m Total params: \u001b[0m\u001b[38;5;34m215\u001b[0m (864.00 B)\n"
      ]
     },
     "metadata": {},
     "output_type": "display_data"
    },
    {
     "data": {
      "text/html": [
       "<pre style=\"white-space:pre;overflow-x:auto;line-height:normal;font-family:Menlo,'DejaVu Sans Mono',consolas,'Courier New',monospace\"><span style=\"font-weight: bold\"> Trainable params: </span><span style=\"color: #00af00; text-decoration-color: #00af00\">71</span> (284.00 B)\n",
       "</pre>\n"
      ],
      "text/plain": [
       "\u001b[1m Trainable params: \u001b[0m\u001b[38;5;34m71\u001b[0m (284.00 B)\n"
      ]
     },
     "metadata": {},
     "output_type": "display_data"
    },
    {
     "data": {
      "text/html": [
       "<pre style=\"white-space:pre;overflow-x:auto;line-height:normal;font-family:Menlo,'DejaVu Sans Mono',consolas,'Courier New',monospace\"><span style=\"font-weight: bold\"> Non-trainable params: </span><span style=\"color: #00af00; text-decoration-color: #00af00\">0</span> (0.00 B)\n",
       "</pre>\n"
      ],
      "text/plain": [
       "\u001b[1m Non-trainable params: \u001b[0m\u001b[38;5;34m0\u001b[0m (0.00 B)\n"
      ]
     },
     "metadata": {},
     "output_type": "display_data"
    },
    {
     "data": {
      "text/html": [
       "<pre style=\"white-space:pre;overflow-x:auto;line-height:normal;font-family:Menlo,'DejaVu Sans Mono',consolas,'Courier New',monospace\"><span style=\"font-weight: bold\"> Optimizer params: </span><span style=\"color: #00af00; text-decoration-color: #00af00\">144</span> (580.00 B)\n",
       "</pre>\n"
      ],
      "text/plain": [
       "\u001b[1m Optimizer params: \u001b[0m\u001b[38;5;34m144\u001b[0m (580.00 B)\n"
      ]
     },
     "metadata": {},
     "output_type": "display_data"
    }
   ],
   "source": [
    "from tensorflow.keras.models import load_model\n",
    "\n",
    "# Carregar o modelo treinado\n",
    "autoencoder = load_model('autoencoder_model.keras')\n",
    "\n",
    "# Resumo do modelo (opcional)\n",
    "autoencoder.summary()\n"
   ]
  },
  {
   "cell_type": "code",
   "execution_count": 5,
   "metadata": {},
   "outputs": [],
   "source": [
    "# Gerar 100 dados anômalos\n",
    "np.random.seed(42)\n",
    "anomalous_data = pd.DataFrame({\n",
    "    'Engine_speed': np.random.uniform(500, 3000, 100),\n",
    "    'Engine_torque': np.random.uniform(0, 100, 100),\n",
    "    'Flywheel_torque': np.random.uniform(-50, 200, 100),\n",
    "    'Throttle_position_signal': np.random.uniform(5, 100, 100),\n",
    "    'Vehicle_speed': np.random.uniform(0, 100, 100)\n",
    "})\n",
    "\n",
    "# Carregar e selecionar 100 registros normais do dataset\n",
    "file_path = \"datasetCAN.csv\"\n",
    "dataset = pd.read_csv(file_path, delimiter=',')\n",
    "normal_data_sample = dataset.sample(n=100, random_state=22)\n",
    "\n",
    "# Concatenar os dados normais e anômalos\n",
    "combined_data = pd.concat([normal_data_sample, anomalous_data], ignore_index=True)\n",
    "\n",
    "# Selecionar apenas as colunas esperadas pelo modelo\n",
    "expected_columns = ['Engine_speed', 'Engine_torque', 'Flywheel_torque', 'Throttle_position_signal', 'Vehicle_speed']\n",
    "combined_data = combined_data[expected_columns]\n",
    "normal_data_sample = normal_data_sample[expected_columns]\n",
    "\n",
    "# Normalizar os dados\n",
    "scaler = MinMaxScaler()\n",
    "combined_data_scaled = scaler.fit_transform(combined_data)"
   ]
  },
  {
   "cell_type": "code",
   "execution_count": 6,
   "metadata": {},
   "outputs": [
    {
     "name": "stdout",
     "output_type": "stream",
     "text": [
      "\u001b[1m7/7\u001b[0m \u001b[32m━━━━━━━━━━━━━━━━━━━━\u001b[0m\u001b[37m\u001b[0m \u001b[1m0s\u001b[0m 3ms/step \n"
     ]
    }
   ],
   "source": [
    "# Reconstruir os dados usando o Autoencoder\n",
    "reconstructed = autoencoder.predict(combined_data_scaled)\n",
    "\n",
    "# Calcular o erro de reconstrução para cada registro\n",
    "reconstruction_error = np.mean((combined_data_scaled - reconstructed) ** 2, axis=1)\n",
    "\n",
    "# Definir o threshold dinâmico\n",
    "threshold_range = np.linspace(reconstruction_error.min(), reconstruction_error.max(), 100)\n",
    "\n",
    "# Inicializar variáveis para armazenar o melhor resultado\n",
    "best_threshold = None\n",
    "best_normal_as_anomaly = float('inf')  # Minimizar falsos positivos\n",
    "best_anomalous_detected = 0  # Maximizar verdadeiros positivos\n",
    "\n",
    "# Iterar sobre possíveis valores de threshold\n",
    "for threshold in threshold_range:\n",
    "    anomalies_detected = reconstruction_error > threshold\n",
    "\n",
    "    # Separar os dados normais e anômalos\n",
    "    normal_as_anomaly = np.sum(anomalies_detected[:100])  # Falsos positivos\n",
    "    anomalous_correctly_detected = np.sum(anomalies_detected[100:])  # Verdadeiros positivos\n",
    "\n",
    "    # Atualizar o melhor threshold\n",
    "    if (normal_as_anomaly < best_normal_as_anomaly or\n",
    "        (normal_as_anomaly == best_normal_as_anomaly and anomalous_correctly_detected > best_anomalous_detected)):\n",
    "        best_threshold = threshold\n",
    "        best_normal_as_anomaly = normal_as_anomaly\n",
    "        best_anomalous_detected = anomalous_correctly_detected"
   ]
  },
  {
   "cell_type": "code",
   "execution_count": 7,
   "metadata": {},
   "outputs": [],
   "source": [
    "# Identificar anomalias com o melhor threshold\n",
    "anomalies = reconstruction_error > best_threshold\n",
    "combined_data['Is_Anomaly'] = anomalies"
   ]
  },
  {
   "cell_type": "code",
   "execution_count": 8,
   "metadata": {},
   "outputs": [
    {
     "name": "stdout",
     "output_type": "stream",
     "text": [
      "Melhor threshold: 0.07504887808747103\n",
      "Normais detectados como anomalias: 0\n",
      "Anômalos detectados corretamente: 51\n",
      "\n",
      "Primeiros 5 dados com anomalias detectadas:\n",
      "     Engine_speed  Engine_torque  Flywheel_torque  Throttle_position_signal  \\\n",
      "101   2876.785766      63.641041       -28.965009                 55.478690   \n",
      "102   2329.984855      31.435598        -9.592821                 56.360337   \n",
      "105    889.986301      24.929223       -47.700737                 97.705948   \n",
      "107   2665.440364      75.555114       115.875442                 35.680865   \n",
      "108   2002.787529      22.879817       -48.734604                 80.542689   \n",
      "\n",
      "     Vehicle_speed  Is_Anomaly  \n",
      "101      90.255291        True  \n",
      "102      50.525237        True  \n",
      "105      89.552323        True  \n",
      "107       1.083765        True  \n",
      "108      90.538198        True  \n",
      "\n",
      "Total de anomalias detectadas: 51 de 100\n"
     ]
    }
   ],
   "source": [
    "# Resultados finais\n",
    "print(f\"Melhor threshold: {best_threshold}\")\n",
    "print(f\"Normais detectados como anomalias: {best_normal_as_anomaly}\")\n",
    "print(f\"Anômalos detectados corretamente: {best_anomalous_detected}\")\n",
    "\n",
    "# Visualizar os dados\n",
    "print(\"\\nPrimeiros 5 dados com anomalias detectadas:\")\n",
    "print(combined_data[combined_data['Is_Anomaly']].head())\n",
    "\n",
    "# Estatísticas gerais\n",
    "num_total_anomalies = combined_data['Is_Anomaly'].sum()\n",
    "print(f\"\\nTotal de anomalias detectadas: {num_total_anomalies} de 100\")"
   ]
  }
 ],
 "metadata": {
  "kernelspec": {
   "display_name": "Python 3",
   "language": "python",
   "name": "python3"
  },
  "language_info": {
   "codemirror_mode": {
    "name": "ipython",
    "version": 3
   },
   "file_extension": ".py",
   "mimetype": "text/x-python",
   "name": "python",
   "nbconvert_exporter": "python",
   "pygments_lexer": "ipython3",
   "version": "3.10.0"
  }
 },
 "nbformat": 4,
 "nbformat_minor": 2
}
